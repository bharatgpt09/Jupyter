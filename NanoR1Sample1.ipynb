{
  "nbformat": 4,
  "nbformat_minor": 0,
  "metadata": {
    "colab": {
      "provenance": [],
      "authorship_tag": "ABX9TyMGhfT4F4cvbAS1D3fFAi4U",
      "include_colab_link": true
    },
    "kernelspec": {
      "name": "python3",
      "display_name": "Python 3"
    },
    "language_info": {
      "name": "python"
    }
  },
  "cells": [
    {
      "cell_type": "markdown",
      "metadata": {
        "id": "view-in-github",
        "colab_type": "text"
      },
      "source": [
        "<a href=\"https://colab.research.google.com/github/bharatgpt09/Jupyter/blob/main/NanoR1Sample1.ipynb\" target=\"_parent\"><img src=\"https://colab.research.google.com/assets/colab-badge.svg\" alt=\"Open In Colab\"/></a>"
      ]
    },
    {
      "cell_type": "code",
      "execution_count": null,
      "metadata": {
        "collapsed": true,
        "id": "XaiSL6XB_YwO"
      },
      "outputs": [],
      "source": [
        "! pip install torch transformers accelerate"
      ]
    },
    {
      "cell_type": "code",
      "source": [
        "from transformers import AutoModelForCausalLM, AutoTokenizer\n",
        "import torch\n",
        "from accelerate import infer_auto_device_map\n",
        "model_name = \"microsoft/phi-2\"\n",
        "tokenizer = AutoTokenizer.from_pretrained(model_name)\n",
        "model = AutoModelForCausalLM.from_pretrained(model_name, torch_dtype=torch.float16, device_map=\"auto\")\n",
        "model.eval()"
      ],
      "metadata": {
        "collapsed": true,
        "id": "iXGYfuyh_hb2"
      },
      "execution_count": null,
      "outputs": []
    },
    {
      "cell_type": "code",
      "source": [
        "def get_response(prompt,max_length=200):\n",
        "  inputs= tokenizer(prompt, return_tensors=\"pt\").to(model.device)\n",
        "  with torch.no_grad():\n",
        "    outputs = model.generate(**inputs,max_length=max_length)\n",
        "    return tokenizer.decode(outputs[0], skip_special_tokens=True)"
      ],
      "metadata": {
        "id": "vSCkEcil_s6w"
      },
      "execution_count": 16,
      "outputs": []
    },
    {
      "cell_type": "code",
      "source": [
        "prompt = \"\"\"let's think step by step.\n",
        "Premise 1: If it rains, the ground gets wet.\n",
        "Premise 2: it is raining.\n",
        "conclusion: \"\"\"\n",
        "response = get_response(prompt)\n",
        "print(response)"
      ],
      "metadata": {
        "id": "wobyaozAAEsC"
      },
      "execution_count": null,
      "outputs": []
    }
  ]
}