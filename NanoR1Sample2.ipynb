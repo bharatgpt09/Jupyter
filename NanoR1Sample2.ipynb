{
  "nbformat": 4,
  "nbformat_minor": 0,
  "metadata": {
    "colab": {
      "provenance": [],
      "gpuType": "T4",
      "authorship_tag": "ABX9TyOjywyrB8CC69KDqz/0/8og",
      "include_colab_link": true
    },
    "kernelspec": {
      "name": "python3",
      "display_name": "Python 3"
    },
    "language_info": {
      "name": "python"
    },
    "accelerator": "GPU"
  },
  "cells": [
    {
      "cell_type": "markdown",
      "metadata": {
        "id": "view-in-github",
        "colab_type": "text"
      },
      "source": [
        "<a href=\"https://colab.research.google.com/github/bharatgpt09/Jupyter/blob/main/NanoR1Sample2.ipynb\" target=\"_parent\"><img src=\"https://colab.research.google.com/assets/colab-badge.svg\" alt=\"Open In Colab\"/></a>"
      ]
    },
    {
      "cell_type": "code",
      "execution_count": null,
      "metadata": {
        "collapsed": true,
        "id": "Saqdqske3bcX"
      },
      "outputs": [],
      "source": [
        "!nvcc --version"
      ]
    },
    {
      "cell_type": "code",
      "source": [
        "#! pip install transformers torch accelerate bitsandbytes"
      ],
      "metadata": {
        "collapsed": true,
        "id": "Qy7PQUlZ4G-0"
      },
      "execution_count": null,
      "outputs": []
    },
    {
      "cell_type": "code",
      "source": [
        "#from google.colab import userdata\n",
        "#my_secret_key = userdata.get('HF_TOKEN')"
      ],
      "metadata": {
        "id": "uzPRZqn-4Yvi"
      },
      "execution_count": null,
      "outputs": []
    },
    {
      "cell_type": "code",
      "source": [
        "#import torch\n",
        "#from transformers import AutoTokenizer, AutoModelForCausalLM, BitsAndBytesConfig, pipeline"
      ],
      "metadata": {
        "id": "O_UKP5jy4mi8"
      },
      "execution_count": null,
      "outputs": []
    },
    {
      "cell_type": "code",
      "source": [
        "!pip install transformers torch accelerate bitsandbytes\n",
        "\n",
        "import torch\n",
        "from transformers import AutoTokenizer, AutoModelForCausalLM, BitsAndBytesConfig, pipeline\n",
        "from huggingface_hub import login\n",
        "\n",
        "# Replace 'YOUR_HF_TOKEN' with your actual token\n",
        "# If using Google Colab, uncomment the code below to retrieve the token from userdata.\n",
        "# from google.colab import userdata\n",
        "# hf_token = userdata.get('HF_TOKEN')\n",
        "\n",
        "# hf_token = \"YOUR_HF_TOKEN\" # Option 1: Hardcode the token\n",
        "hf_token = input(\"Please enter your Hugging Face token: \") # Option 2: Input the token\n",
        "\n",
        "\n",
        "login(token=hf_token) # For login to hugging face account using user's token\n",
        "\n",
        "model_name = \"meta-llama/Llama-3.1-8B\"\n",
        "bitsandbytes_config = BitsAndBytesConfig(\n",
        "    load_in_4bit=True,\n",
        "    bnb_4bit_use_double_quant=True,\n",
        "    bnb_4bit_quant_type=\"nf4\",\n",
        "    bnb_4bit_compute_dtype=torch.bfloat16\n",
        ")\n",
        "\n",
        "# Use hf_token for use_auth_token\n",
        "tokenizer = AutoTokenizer.from_pretrained(model_name, use_auth_token=hf_token)\n",
        "tokenizer.pad = tokenizer.eos_token\n",
        "model = AutoModelForCausalLM.from_pretrained(\n",
        "    model_name,\n",
        "    quantization_config=bitsandbytes_config,\n",
        "    device_map=\"auto\",\n",
        "    use_auth_token=hf_token  # Use hf_token for use_auth_token\n",
        ")"
      ],
      "metadata": {
        "id": "F9k7ArrA646S"
      },
      "execution_count": null,
      "outputs": []
    },
    {
      "cell_type": "code",
      "source": [
        "text_generator = pipeline(\n",
        "    \"text-generation\",\n",
        "    model=model,\n",
        "    tokenizer=tokenizer,\n",
        "    max_new_tokens=512,\n",
        ")"
      ],
      "metadata": {
        "id": "yjJf-SnD8VPY"
      },
      "execution_count": null,
      "outputs": []
    },
    {
      "cell_type": "code",
      "source": [
        "def get_response(prompt):\n",
        "    response = text_generator(prompt)\n",
        "    gen_text = response[0]['generated_text']\n",
        "    return gen_text"
      ],
      "metadata": {
        "id": "zNAMD2458iWM"
      },
      "execution_count": 6,
      "outputs": []
    },
    {
      "cell_type": "code",
      "source": [
        "if __name__ == \"__main__\":\n",
        "    user_prompt = input(\"Please enter your prompt: \")\n",
        "llama_response = get_response(user_prompt)\n",
        "print(\"\\nLlama Response:\\n\",llama_response)"
      ],
      "metadata": {
        "id": "03ywWxdb9ul5"
      },
      "execution_count": null,
      "outputs": []
    }
  ]
}